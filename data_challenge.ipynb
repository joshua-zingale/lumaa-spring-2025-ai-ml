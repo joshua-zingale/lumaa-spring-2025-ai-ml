{
 "cells": [
  {
   "cell_type": "markdown",
   "id": "bd243fe5-17b5-4c54-a283-d1092a248a04",
   "metadata": {},
   "source": [
    "# Movie Recommender System Challenge\n",
    "\n",
    "In this notebook, I, Joshua Zingale, create a movie recommender system with a subset of a [kaggle dataset](https://www.kaggle.com/datasets/utkarshx27/movies-dataset?resource=download), which I have also included in this repository."
   ]
  },
  {
   "cell_type": "markdown",
   "id": "678c1332-61df-4ccd-b425-a2a03fa260c5",
   "metadata": {},
   "source": [
    "## Data Loading and Cleaning"
   ]
  },
  {
   "cell_type": "code",
   "execution_count": 1,
   "id": "cba2d28f-164f-41f6-a3fe-6c4c04b088b8",
   "metadata": {},
   "outputs": [
    {
     "data": {
      "text/html": [
       "<div>\n",
       "<style scoped>\n",
       "    .dataframe tbody tr th:only-of-type {\n",
       "        vertical-align: middle;\n",
       "    }\n",
       "\n",
       "    .dataframe tbody tr th {\n",
       "        vertical-align: top;\n",
       "    }\n",
       "\n",
       "    .dataframe thead th {\n",
       "        text-align: right;\n",
       "    }\n",
       "</style>\n",
       "<table border=\"1\" class=\"dataframe\">\n",
       "  <thead>\n",
       "    <tr style=\"text-align: right;\">\n",
       "      <th></th>\n",
       "      <th>index</th>\n",
       "      <th>budget</th>\n",
       "      <th>genres</th>\n",
       "      <th>homepage</th>\n",
       "      <th>id</th>\n",
       "      <th>keywords</th>\n",
       "      <th>original_language</th>\n",
       "      <th>original_title</th>\n",
       "      <th>overview</th>\n",
       "      <th>popularity</th>\n",
       "      <th>...</th>\n",
       "      <th>runtime</th>\n",
       "      <th>spoken_languages</th>\n",
       "      <th>status</th>\n",
       "      <th>tagline</th>\n",
       "      <th>title</th>\n",
       "      <th>vote_average</th>\n",
       "      <th>vote_count</th>\n",
       "      <th>cast</th>\n",
       "      <th>crew</th>\n",
       "      <th>director</th>\n",
       "    </tr>\n",
       "  </thead>\n",
       "  <tbody>\n",
       "    <tr>\n",
       "      <th>1879</th>\n",
       "      <td>1879</td>\n",
       "      <td>25000000</td>\n",
       "      <td>Comedy</td>\n",
       "      <td>NaN</td>\n",
       "      <td>57431</td>\n",
       "      <td>babysitter duringcreditsstinger</td>\n",
       "      <td>en</td>\n",
       "      <td>The Sitter</td>\n",
       "      <td>Noah, is not your typical entertain-the-kids-n...</td>\n",
       "      <td>19.428994</td>\n",
       "      <td>...</td>\n",
       "      <td>81.0</td>\n",
       "      <td>[{\"iso_639_1\": \"en\", \"name\": \"English\"}]</td>\n",
       "      <td>Released</td>\n",
       "      <td>Worst. Babysitter. Ever.</td>\n",
       "      <td>The Sitter</td>\n",
       "      <td>5.4</td>\n",
       "      <td>325</td>\n",
       "      <td>Sam Rockwell Jonah Hill Max Records Ari Grayno...</td>\n",
       "      <td>[{'name': 'Michael De Luca', 'gender': 2, 'dep...</td>\n",
       "      <td>David Gordon Green</td>\n",
       "    </tr>\n",
       "    <tr>\n",
       "      <th>2672</th>\n",
       "      <td>2672</td>\n",
       "      <td>14000000</td>\n",
       "      <td>Comedy</td>\n",
       "      <td>NaN</td>\n",
       "      <td>864</td>\n",
       "      <td>winter trainer olympic games jamaica training ...</td>\n",
       "      <td>en</td>\n",
       "      <td>Cool Runnings</td>\n",
       "      <td>When a Jamaican sprinter is disqualified from ...</td>\n",
       "      <td>22.409117</td>\n",
       "      <td>...</td>\n",
       "      <td>98.0</td>\n",
       "      <td>[{\"iso_639_1\": \"en\", \"name\": \"English\"}, {\"iso...</td>\n",
       "      <td>Released</td>\n",
       "      <td>One dream. Four Jamaicans. Twenty below zero.</td>\n",
       "      <td>Cool Runnings</td>\n",
       "      <td>6.8</td>\n",
       "      <td>491</td>\n",
       "      <td>Leon Robinson Doug E. Doug Rawle D. Lewis Mali...</td>\n",
       "      <td>[{'name': 'Hans Zimmer', 'gender': 2, 'departm...</td>\n",
       "      <td>Jon Turteltaub</td>\n",
       "    </tr>\n",
       "    <tr>\n",
       "      <th>651</th>\n",
       "      <td>651</td>\n",
       "      <td>65000000</td>\n",
       "      <td>Comedy Drama Family</td>\n",
       "      <td>NaN</td>\n",
       "      <td>196867</td>\n",
       "      <td>musical orphan foster child</td>\n",
       "      <td>en</td>\n",
       "      <td>Annie</td>\n",
       "      <td>Ever since her parents left her as a baby, lit...</td>\n",
       "      <td>33.439187</td>\n",
       "      <td>...</td>\n",
       "      <td>119.0</td>\n",
       "      <td>[{\"iso_639_1\": \"en\", \"name\": \"English\"}]</td>\n",
       "      <td>Released</td>\n",
       "      <td>It's a Hard Knock Life</td>\n",
       "      <td>Annie</td>\n",
       "      <td>6.0</td>\n",
       "      <td>466</td>\n",
       "      <td>Quvenzhan\\u00e9 Wallis Jamie Foxx Rose Byrne C...</td>\n",
       "      <td>[{'name': 'Will Smith', 'gender': 2, 'departme...</td>\n",
       "      <td>Will Gluck</td>\n",
       "    </tr>\n",
       "  </tbody>\n",
       "</table>\n",
       "<p>3 rows × 24 columns</p>\n",
       "</div>"
      ],
      "text/plain": [
       "      index    budget               genres homepage      id  \\\n",
       "1879   1879  25000000               Comedy      NaN   57431   \n",
       "2672   2672  14000000               Comedy      NaN     864   \n",
       "651     651  65000000  Comedy Drama Family      NaN  196867   \n",
       "\n",
       "                                               keywords original_language  \\\n",
       "1879                    babysitter duringcreditsstinger                en   \n",
       "2672  winter trainer olympic games jamaica training ...                en   \n",
       "651                         musical orphan foster child                en   \n",
       "\n",
       "     original_title                                           overview  \\\n",
       "1879     The Sitter  Noah, is not your typical entertain-the-kids-n...   \n",
       "2672  Cool Runnings  When a Jamaican sprinter is disqualified from ...   \n",
       "651           Annie  Ever since her parents left her as a baby, lit...   \n",
       "\n",
       "      popularity  ... runtime  \\\n",
       "1879   19.428994  ...    81.0   \n",
       "2672   22.409117  ...    98.0   \n",
       "651    33.439187  ...   119.0   \n",
       "\n",
       "                                       spoken_languages    status  \\\n",
       "1879           [{\"iso_639_1\": \"en\", \"name\": \"English\"}]  Released   \n",
       "2672  [{\"iso_639_1\": \"en\", \"name\": \"English\"}, {\"iso...  Released   \n",
       "651            [{\"iso_639_1\": \"en\", \"name\": \"English\"}]  Released   \n",
       "\n",
       "                                            tagline          title  \\\n",
       "1879                       Worst. Babysitter. Ever.     The Sitter   \n",
       "2672  One dream. Four Jamaicans. Twenty below zero.  Cool Runnings   \n",
       "651                          It's a Hard Knock Life          Annie   \n",
       "\n",
       "     vote_average vote_count  \\\n",
       "1879          5.4        325   \n",
       "2672          6.8        491   \n",
       "651           6.0        466   \n",
       "\n",
       "                                                   cast  \\\n",
       "1879  Sam Rockwell Jonah Hill Max Records Ari Grayno...   \n",
       "2672  Leon Robinson Doug E. Doug Rawle D. Lewis Mali...   \n",
       "651   Quvenzhan\\u00e9 Wallis Jamie Foxx Rose Byrne C...   \n",
       "\n",
       "                                                   crew            director  \n",
       "1879  [{'name': 'Michael De Luca', 'gender': 2, 'dep...  David Gordon Green  \n",
       "2672  [{'name': 'Hans Zimmer', 'gender': 2, 'departm...      Jon Turteltaub  \n",
       "651   [{'name': 'Will Smith', 'gender': 2, 'departme...          Will Gluck  \n",
       "\n",
       "[3 rows x 24 columns]"
      ]
     },
     "execution_count": 1,
     "metadata": {},
     "output_type": "execute_result"
    }
   ],
   "source": [
    "import pandas as pd\n",
    "pd.options.mode.copy_on_write = True\n",
    "\n",
    "# Load only smaller subset of the movies per the instructions\n",
    "df = pd.read_csv(\"data/movie_dataset.csv\").sample(500, random_state = 115)\n",
    "\n",
    "# View a small random sample to get a feel for the data\n",
    "df.sample(3, random_state = 935)"
   ]
  },
  {
   "cell_type": "code",
   "execution_count": 2,
   "id": "24d9c4c0-64e1-4fb9-a8d6-b1f1c763e4f1",
   "metadata": {},
   "outputs": [
    {
     "data": {
      "text/plain": [
       "Index(['index', 'budget', 'genres', 'homepage', 'id', 'keywords',\n",
       "       'original_language', 'original_title', 'overview', 'popularity',\n",
       "       'production_companies', 'production_countries', 'release_date',\n",
       "       'revenue', 'runtime', 'spoken_languages', 'status', 'tagline', 'title',\n",
       "       'vote_average', 'vote_count', 'cast', 'crew', 'director'],\n",
       "      dtype='object')"
      ]
     },
     "execution_count": 2,
     "metadata": {},
     "output_type": "execute_result"
    }
   ],
   "source": [
    "df.columns"
   ]
  },
  {
   "cell_type": "markdown",
   "id": "adc8e080-7993-415c-88a9-8d973e8b2ad8",
   "metadata": {},
   "source": [
    "### Choosing Columns\n",
    "Looking at the column names and some examples, the most immediately relevant columns for this challenge seem to be \"genres\", \"keywords\", \"original_title\", and \"overview\", though other columns could be used to improve relevancy. Also, I am going to filter the data only to include those movies originally in English."
   ]
  },
  {
   "cell_type": "code",
   "execution_count": 3,
   "id": "20b977f3-f0db-4349-948d-da93cf9c3c1a",
   "metadata": {},
   "outputs": [
    {
     "name": "stdout",
     "output_type": "stream",
     "text": [
      "438\n"
     ]
    }
   ],
   "source": [
    "# Load the most relevant columns for all movies in the English language, dropping any rows with NaN values\n",
    "df = df[df[\"original_language\"] == \"en\"][[\"index\", \"genres\", \"keywords\", \"original_title\", \"overview\"]].dropna()\n",
    "\n",
    "print(len(df))"
   ]
  },
  {
   "cell_type": "code",
   "execution_count": 4,
   "id": "fc6c024a-1790-4738-85a2-56ffa32d0fa9",
   "metadata": {},
   "outputs": [
    {
     "data": {
      "text/html": [
       "<div>\n",
       "<style scoped>\n",
       "    .dataframe tbody tr th:only-of-type {\n",
       "        vertical-align: middle;\n",
       "    }\n",
       "\n",
       "    .dataframe tbody tr th {\n",
       "        vertical-align: top;\n",
       "    }\n",
       "\n",
       "    .dataframe thead th {\n",
       "        text-align: right;\n",
       "    }\n",
       "</style>\n",
       "<table border=\"1\" class=\"dataframe\">\n",
       "  <thead>\n",
       "    <tr style=\"text-align: right;\">\n",
       "      <th></th>\n",
       "      <th>index</th>\n",
       "      <th>genres</th>\n",
       "      <th>keywords</th>\n",
       "      <th>original_title</th>\n",
       "      <th>overview</th>\n",
       "    </tr>\n",
       "  </thead>\n",
       "  <tbody>\n",
       "    <tr>\n",
       "      <th>2980</th>\n",
       "      <td>2980</td>\n",
       "      <td>Action Horror Thriller</td>\n",
       "      <td>dystopia sequel legalized murder</td>\n",
       "      <td>The Purge: Election Year</td>\n",
       "      <td>Two years after choosing not to kill the man w...</td>\n",
       "    </tr>\n",
       "    <tr>\n",
       "      <th>3812</th>\n",
       "      <td>3812</td>\n",
       "      <td>Drama</td>\n",
       "      <td>corruption sex adultery television profit</td>\n",
       "      <td>Network</td>\n",
       "      <td>A TV network cynically exploits a deranged ex-...</td>\n",
       "    </tr>\n",
       "    <tr>\n",
       "      <th>4178</th>\n",
       "      <td>4178</td>\n",
       "      <td>Drama Thriller</td>\n",
       "      <td>baby wife husband relationship christian faith...</td>\n",
       "      <td>Higher Ground</td>\n",
       "      <td>A chronicle of one woman's lifelong struggle w...</td>\n",
       "    </tr>\n",
       "  </tbody>\n",
       "</table>\n",
       "</div>"
      ],
      "text/plain": [
       "      index                  genres  \\\n",
       "2980   2980  Action Horror Thriller   \n",
       "3812   3812                   Drama   \n",
       "4178   4178          Drama Thriller   \n",
       "\n",
       "                                               keywords  \\\n",
       "2980                   dystopia sequel legalized murder   \n",
       "3812          corruption sex adultery television profit   \n",
       "4178  baby wife husband relationship christian faith...   \n",
       "\n",
       "                original_title  \\\n",
       "2980  The Purge: Election Year   \n",
       "3812                   Network   \n",
       "4178             Higher Ground   \n",
       "\n",
       "                                               overview  \n",
       "2980  Two years after choosing not to kill the man w...  \n",
       "3812  A TV network cynically exploits a deranged ex-...  \n",
       "4178  A chronicle of one woman's lifelong struggle w...  "
      ]
     },
     "execution_count": 4,
     "metadata": {},
     "output_type": "execute_result"
    }
   ],
   "source": [
    "df.sample(3, random_state=115)"
   ]
  },
  {
   "cell_type": "markdown",
   "id": "491732b8-1700-45c8-b18d-ca474f9aab59",
   "metadata": {},
   "source": [
    "### Combining Columns\n",
    "Fortunately, most of the data are English movies so I retained enough data. To finish cleaning the data, I now will concatenate genres, the keywords, and the film overview into a single column, which will later be turned into a vector."
   ]
  },
  {
   "cell_type": "code",
   "execution_count": 5,
   "id": "b75d309d-6aa9-4f9d-a0e0-23600492d0f7",
   "metadata": {},
   "outputs": [],
   "source": [
    "# Build a new DataFrame with a composite \"desription\" column\n",
    "df[\"description\"] = df[\"original_title\"] + \" \" + df[\"genres\"] + \" \" + df[\"keywords\"] + \" \" + df[\"overview\"]"
   ]
  },
  {
   "cell_type": "code",
   "execution_count": 6,
   "id": "f5b1c9dd-7749-4d59-996e-921fec7b5150",
   "metadata": {},
   "outputs": [
    {
     "data": {
      "text/html": [
       "<div>\n",
       "<style scoped>\n",
       "    .dataframe tbody tr th:only-of-type {\n",
       "        vertical-align: middle;\n",
       "    }\n",
       "\n",
       "    .dataframe tbody tr th {\n",
       "        vertical-align: top;\n",
       "    }\n",
       "\n",
       "    .dataframe thead th {\n",
       "        text-align: right;\n",
       "    }\n",
       "</style>\n",
       "<table border=\"1\" class=\"dataframe\">\n",
       "  <thead>\n",
       "    <tr style=\"text-align: right;\">\n",
       "      <th></th>\n",
       "      <th>index</th>\n",
       "      <th>genres</th>\n",
       "      <th>keywords</th>\n",
       "      <th>original_title</th>\n",
       "      <th>overview</th>\n",
       "      <th>description</th>\n",
       "    </tr>\n",
       "  </thead>\n",
       "  <tbody>\n",
       "    <tr>\n",
       "      <th>867</th>\n",
       "      <td>867</td>\n",
       "      <td>Crime Drama Thriller</td>\n",
       "      <td>italy christianity new york assassination ital...</td>\n",
       "      <td>The Godfather: Part III</td>\n",
       "      <td>In the midst of trying to legitimize his busin...</td>\n",
       "      <td>The Godfather: Part III Crime Drama Thriller i...</td>\n",
       "    </tr>\n",
       "    <tr>\n",
       "      <th>2402</th>\n",
       "      <td>2402</td>\n",
       "      <td>Horror Drama Mystery Thriller</td>\n",
       "      <td>nanny haunted house channel islands parallel w...</td>\n",
       "      <td>The Others</td>\n",
       "      <td>Grace is a religious woman who lives in an old...</td>\n",
       "      <td>The Others Horror Drama Mystery Thriller nanny...</td>\n",
       "    </tr>\n",
       "    <tr>\n",
       "      <th>2455</th>\n",
       "      <td>2455</td>\n",
       "      <td>Comedy Romance Drama</td>\n",
       "      <td>new york wife husband relationship restaurant ...</td>\n",
       "      <td>When Harry Met Sally...</td>\n",
       "      <td>During their travels from Chicago to New York,...</td>\n",
       "      <td>When Harry Met Sally... Comedy Romance Drama n...</td>\n",
       "    </tr>\n",
       "  </tbody>\n",
       "</table>\n",
       "</div>"
      ],
      "text/plain": [
       "      index                         genres  \\\n",
       "867     867           Crime Drama Thriller   \n",
       "2402   2402  Horror Drama Mystery Thriller   \n",
       "2455   2455           Comedy Romance Drama   \n",
       "\n",
       "                                               keywords  \\\n",
       "867   italy christianity new york assassination ital...   \n",
       "2402  nanny haunted house channel islands parallel w...   \n",
       "2455  new york wife husband relationship restaurant ...   \n",
       "\n",
       "               original_title  \\\n",
       "867   The Godfather: Part III   \n",
       "2402               The Others   \n",
       "2455  When Harry Met Sally...   \n",
       "\n",
       "                                               overview  \\\n",
       "867   In the midst of trying to legitimize his busin...   \n",
       "2402  Grace is a religious woman who lives in an old...   \n",
       "2455  During their travels from Chicago to New York,...   \n",
       "\n",
       "                                            description  \n",
       "867   The Godfather: Part III Crime Drama Thriller i...  \n",
       "2402  The Others Horror Drama Mystery Thriller nanny...  \n",
       "2455  When Harry Met Sally... Comedy Romance Drama n...  "
      ]
     },
     "execution_count": 6,
     "metadata": {},
     "output_type": "execute_result"
    }
   ],
   "source": [
    "df.sample(3, random_state = 935)"
   ]
  },
  {
   "cell_type": "markdown",
   "id": "18812ce8-4dce-41c5-ab0e-dc63ad501906",
   "metadata": {},
   "source": [
    "## Vectorized Movie Storage\n",
    "\n",
    "I created a vectorized database wherein each movie has an associated vector. A movie's vector is a TF-IDF vector of the text in the composite \"description\" field created above.\n",
    "\n",
    "To generate a TF-IDF vector for a piece of text, I implemented a tokenizer. The tokenizer removes punctuation, sets everything to lowercase, and then attempts to get the stem of each word, e.g. by removing verb endings or plural markers. Once the text is in a normilized (\"stemified\") form, each word is a token; and a vector is asigned to the text based on the frequency of words present in the text and based on the inverse document frequency of each token.\n",
    "\n",
    "I downloaded a list of English stop words from [here](https://gist.github.com/larsyencken/1440509), which I used to remove stop words from the descriptions during the tokenization stage. I added \"movie\" and \"movies\" to the list of stop words because queries of the form \"I like moves that...\" were resulting in irrelevant movies simply for a match to \"movie\".\n",
    "\n",
    "When vectorizing a query, any word following I is removed to prevent \"love\" in constructions like \"I love horrific war films\" from biasing the results toward romantic comedies.\n"
   ]
  },
  {
   "cell_type": "code",
   "execution_count": 7,
   "id": "29f57dc2-0667-4179-ac11-a154c6043c2d",
   "metadata": {},
   "outputs": [],
   "source": [
    "from nltk.stem import PorterStemmer\n",
    "import numpy as np\n",
    "ps = PorterStemmer()"
   ]
  },
  {
   "cell_type": "code",
   "execution_count": 8,
   "id": "bbb0bf09-c5a8-40f8-b949-318ef5a2245e",
   "metadata": {},
   "outputs": [],
   "source": [
    "# Load in the stopwords list\n",
    "with open(\"stopwords.txt\") as f:\n",
    "    stopwords = f.read().split()\n",
    "stopwords = set(stopwords)"
   ]
  },
  {
   "cell_type": "code",
   "execution_count": 9,
   "id": "52a4c319-f00b-44f7-a5d4-332d7e5df12a",
   "metadata": {},
   "outputs": [],
   "source": [
    "class Tokenizer():\n",
    "    def __init__(self, documents):\n",
    "        \"\"\"\n",
    "        Initializes a tokenizer for a set of documents.\n",
    "        The vocabulary for the Tokenizer is determined by the documents used to initialize it.\n",
    "        \"\"\"\n",
    "\n",
    "        ## Get the vocabulary\n",
    "        self.vocabulary = set()\n",
    "        for text in documents:\n",
    "            self.vocabulary = self.vocabulary.union(set(self._stemify(text)))\n",
    "\n",
    "        self.vocabulary_size = len(self.vocabulary)\n",
    "        \n",
    "\n",
    "        ## Get the stem to token id mappings\n",
    "        self.stem_to_id = dict()\n",
    "        self.id_to_stem = dict()\n",
    "\n",
    "        for i, word in enumerate(self.vocabulary):\n",
    "            self.stem_to_id[word] = i\n",
    "            self.id_to_stem[i] = word\n",
    "\n",
    "        ## Get the inverse document frequencies for each token\n",
    "        self.idf = np.zeros(self.vocabulary_size)\n",
    "        for text in documents:\n",
    "            self.idf += self.frequency_vectorize(text).clip(0, 1)\n",
    "\n",
    "        self.idf = np.log(len(documents)/self.idf)\n",
    "\n",
    "    def tokenize(self, text: str) -> list:\n",
    "        \"\"\"Tokenizes input text\"\"\"\n",
    "        return [self.stem_to_id[stem] for stem in self._stemify(text) if stem in self.vocabulary]\n",
    "\n",
    "    def vectorize(self, text: str, smoothing = 0.0) -> np.ndarray:\n",
    "        \"\"\"Returns a tf-idf vector for the input text, where each index contains the tf-idf of a token in the input text.\n",
    "        smoothing is the amount of smoothing added to the vector.\"\"\"\n",
    "        vec = np.zeros(self.vocabulary_size) + smoothing\n",
    "        for token_id in self.tokenize(text):\n",
    "            vec[token_id] += 1\n",
    "        return vec * self.idf\n",
    "    \n",
    "    def frequency_vectorize(self, text: str) -> np.ndarray:\n",
    "        \"\"\"Returns a frequency vector for the input text, where each index contains the number of appearances of a token in the input text.\"\"\"\n",
    "        vec = np.zeros(self.vocabulary_size)\n",
    "        for token_id in self.tokenize(text):\n",
    "            vec[token_id] += 1\n",
    "        return vec\n",
    "        \n",
    "    def _remove_punctuation(self, text: str) -> str:\n",
    "        \"\"\" Removes common punctuation from a string \"\"\"\n",
    "        for mark in [\"!\", \"(\", \")\", \";\", \":\", \"\\\"\", \",\", \".\", \"?\"]:\n",
    "            text = text.replace(mark, \"\")\n",
    "        return text\n",
    "    \n",
    "    def _stemify(self, text: str) -> list:\n",
    "        \"\"\" Converts text into a list of stems without punctuation\"\"\"\n",
    "        text = self._remove_punctuation(text)\n",
    "        words = text.lower().split()\n",
    "        words = [ps.stem(word) for word in words if word not in stopwords]\n",
    "        return words"
   ]
  },
  {
   "cell_type": "code",
   "execution_count": 10,
   "id": "ed3bb92c-634e-4595-b152-d2f41c7e6c1b",
   "metadata": {},
   "outputs": [],
   "source": [
    "class VectorDB():\n",
    "    \"\"\"\n",
    "    Stores documents in a vector database, wherein lookups use a vector similarity metric, i.e. cosin similarity.\n",
    "    \"\"\"\n",
    "    def __init__(self, data, embedded_row, embedding_function):\n",
    "        \"\"\"\n",
    "        Initializes a vector database for a set of data.\n",
    "\n",
    "        :param data: pandas DataFrame around which this database wraps \n",
    "        :embedding_function: function that takes a document to an embedding thereof\n",
    "        \"\"\"\n",
    "\n",
    "        ## Build the vector database\n",
    "        embedding_size = embedding_function(data[embedded_row].iloc[0]).size\n",
    "        \n",
    "        \n",
    "        self.db = np.ndarray((len(data), embedding_size))\n",
    "        self.data = data\n",
    "        \n",
    "        for i, document in enumerate(data[embedded_row]):\n",
    "            self.db[i] = embedding_function(document)\n",
    "\n",
    "        # normalize each db row\n",
    "        self.db /= np.linalg.norm(self.db, axis = 1, keepdims = True)\n",
    "\n",
    "    def search(self, x, k = 1, return_similarities = False):\n",
    "        \"\"\"Returns the top k closest matches for input vector x\"\"\"\n",
    "        # normalize x\n",
    "        x = x / np.linalg.norm(x)\n",
    "\n",
    "        # Get top k\n",
    "        scores = self.db @ x\n",
    "        top_idc = np.argpartition(scores, -k)[-k:]\n",
    "\n",
    "        # Sort top k\n",
    "        top_idc = sorted(top_idc, key = lambda i: -scores[i])\n",
    "        if return_similarities:\n",
    "            return self.data.iloc[top_idc], scores[top_idc]\n",
    "        return self.data.iloc[top_idc]"
   ]
  },
  {
   "cell_type": "code",
   "execution_count": 11,
   "id": "eb264171-57e6-46ce-8bd8-342bc60f7e78",
   "metadata": {},
   "outputs": [
    {
     "name": "stdout",
     "output_type": "stream",
     "text": [
      "The vocabulary has 5124 words\n"
     ]
    }
   ],
   "source": [
    "# Get a Tokenizer for the data\n",
    "tokenizer = Tokenizer(df.loc[:, \"description\"])\n",
    "\n",
    "print(f\"The vocabulary has {tokenizer.vocabulary_size} words\")"
   ]
  },
  {
   "cell_type": "code",
   "execution_count": 12,
   "id": "25ecd9ee-ff64-406c-a1b2-b91d1458547b",
   "metadata": {},
   "outputs": [],
   "source": [
    "# Create the vectorized database\n",
    "db = VectorDB(df, embedded_row = \"description\", embedding_function = tokenizer.vectorize)"
   ]
  },
  {
   "cell_type": "code",
   "execution_count": 13,
   "id": "7a9eb18b-2d65-4aaa-a07a-e0e33b6ab836",
   "metadata": {},
   "outputs": [],
   "source": [
    "def vectorize_query(text):\n",
    "    \"\"\"Vectorizes a search query\"\"\"\n",
    "\n",
    "    words = text.lower().split()\n",
    "    new_words = [words[0]]\n",
    "    # Remove any word the follows \"I\"\n",
    "    for prev_word, word in zip(words[:-1], words[1:]):\n",
    "        if prev_word != \"i\":\n",
    "            new_words.append(word)\n",
    "\n",
    "    text = \" \".join(new_words)\n",
    "    \n",
    "    return tokenizer.vectorize(text)"
   ]
  },
  {
   "cell_type": "markdown",
   "id": "c3b68695-bd5d-4376-9c57-be8e04c2f534",
   "metadata": {},
   "source": [
    "## Testing"
   ]
  },
  {
   "cell_type": "code",
   "execution_count": 14,
   "id": "93e84290-6e24-448d-9610-17be9ab9c331",
   "metadata": {},
   "outputs": [],
   "source": [
    "def search(text, k = 5):\n",
    "    rows, scores = db.search(vectorize_query(text), k = k, return_similarities = True)\n",
    "\n",
    "    print(\"Results the following query:\", text)\n",
    "    for row, score in zip(rows.iloc, scores):\n",
    "        title = row[\"original_title\"]\n",
    "        index = row[\"index\"]\n",
    "        overview = row[\"overview\"]\n",
    "        keywords = row[\"keywords\"]\n",
    "        genres = row[\"genres\"]\n",
    "        print(f\"Title: {title} ({index})\\nCosine Similarity {score}\\nKeywords & Genres: {keywords}, {genres}\\nOverview: {overview}\\n\")"
   ]
  },
  {
   "cell_type": "code",
   "execution_count": 15,
   "id": "b083e8e9-487a-4e14-8f4b-980b04c0438b",
   "metadata": {},
   "outputs": [
    {
     "name": "stdout",
     "output_type": "stream",
     "text": [
      "Results the following query: I love thrilling action movies set in space, with a comedic twist.\n",
      "Title: Zathura: A Space Adventure (661)\n",
      "Cosine Similarity 0.13740214238710163\n",
      "Keywords & Genres: adventure house alien giant robot outer space, Family Fantasy Science Fiction Adventure\n",
      "Overview: After their father is called into work, two young boys, Walter and Danny, are left in the care of their teenage sister, Lisa, and told they must stay inside. Walter and Danny, who anticipate a boring day, are shocked when they begin playing Zathura, a space-themed board game, which they realize has mystical powers when their house is shot into space. With the help of an astronaut, the boys attempt to return home.\n",
      "\n",
      "Title: Hard Rain (603)\n",
      "Cosine Similarity 0.1253841897040928\n",
      "Keywords & Genres: sheriff rain evacuation armored car crook, Thriller\n",
      "Overview: Get swept up in the action as an armored car driver (Christian Slater) tries to elude a gang of thieves (led by Morgan Freeman) while a flood ravages the countryside. Hard Rain is \"a wild, thrilling, chilling action ride\" filled with close calls, uncertain loyalties and heart-stopping heroics.\n",
      "\n",
      "Title: Capricorn One (3668)\n",
      "Cosine Similarity 0.11277092550372445\n",
      "Keywords & Genres: helicopter nasa texas spacecraft beguilement, Drama Action Thriller Science Fiction\n",
      "Overview: In order to protect the reputation of the American space program, a team of scientists stages a phony Mars landing. Willingly participating in the deception are a trio of well-meaning astronauts, who become liabilities when their space capsule is reported lost on re-entry. Now, with the help of a crusading reporter,they must battle a sinister conspiracy that will stop at nothing to keep the truth\n",
      "\n",
      "Title: Up (66)\n",
      "Cosine Similarity 0.10420413628128734\n",
      "Keywords & Genres: age difference central and south america balloon animation floating in the air, Animation Comedy Family Adventure\n",
      "Overview: Carl Fredricksen spent his entire life dreaming of exploring the globe and experiencing life to its fullest. But at age 78, life seems to have passed him by, until a twist of fate (and a persistent 8-year old Wilderness Explorer named Russell) gives him a new lease on life.\n",
      "\n",
      "Title: Galaxina (3534)\n",
      "Cosine Similarity 0.0858089039722489\n",
      "Keywords & Genres: android harley davidson cryogenics space travel love, Comedy Science Fiction\n",
      "Overview: Galaxina is a lifelike, voluptuous android who is assigned to oversee the operations of an intergalactic Space Police cruiser captained by incompetent Cornelius Butt. When a mission requires the ship's crew to be placed in suspended animation for decades, Galaxina finds herself alone for many years, developing emotions and falling in love with the ship's pilot, Thor.\n",
      "\n"
     ]
    }
   ],
   "source": [
    "search(\"I love thrilling action movies set in space, with a comedic twist.\")"
   ]
  },
  {
   "cell_type": "code",
   "execution_count": 16,
   "id": "569ca329-99bb-4ae6-84d6-b7bdfae0ab19",
   "metadata": {},
   "outputs": [
    {
     "name": "stdout",
     "output_type": "stream",
     "text": [
      "Results the following query: I like action movies set in space\n",
      "Title: Zathura: A Space Adventure (661)\n",
      "Cosine Similarity 0.2652030078167088\n",
      "Keywords & Genres: adventure house alien giant robot outer space, Family Fantasy Science Fiction Adventure\n",
      "Overview: After their father is called into work, two young boys, Walter and Danny, are left in the care of their teenage sister, Lisa, and told they must stay inside. Walter and Danny, who anticipate a boring day, are shocked when they begin playing Zathura, a space-themed board game, which they realize has mystical powers when their house is shot into space. With the help of an astronaut, the boys attempt to return home.\n",
      "\n",
      "Title: Capricorn One (3668)\n",
      "Cosine Similarity 0.2176617345136039\n",
      "Keywords & Genres: helicopter nasa texas spacecraft beguilement, Drama Action Thriller Science Fiction\n",
      "Overview: In order to protect the reputation of the American space program, a team of scientists stages a phony Mars landing. Willingly participating in the deception are a trio of well-meaning astronauts, who become liabilities when their space capsule is reported lost on re-entry. Now, with the help of a crusading reporter,they must battle a sinister conspiracy that will stop at nothing to keep the truth\n",
      "\n",
      "Title: Galaxina (3534)\n",
      "Cosine Similarity 0.1656217220164086\n",
      "Keywords & Genres: android harley davidson cryogenics space travel love, Comedy Science Fiction\n",
      "Overview: Galaxina is a lifelike, voluptuous android who is assigned to oversee the operations of an intergalactic Space Police cruiser captained by incompetent Cornelius Butt. When a mission requires the ship's crew to be placed in suspended animation for decades, Galaxina finds herself alone for many years, developing emotions and falling in love with the ship's pilot, Thor.\n",
      "\n",
      "Title: Mission to Mars (373)\n",
      "Cosine Similarity 0.13767166216069004\n",
      "Keywords & Genres: mars spacecraft space travel alien long take, Science Fiction\n",
      "Overview: When contact is lost with the crew of the first Mars expedition, a rescue mission is launched to discover their fate.\n",
      "\n",
      "Title: Monsters vs Aliens (67)\n",
      "Cosine Similarity 0.11372259311824234\n",
      "Keywords & Genres: alien giant robot duringcreditsstinger, Animation Family Adventure Science Fiction\n",
      "Overview: When Susan Murphy is unwittingly clobbered by a meteor full of outer space gunk on her wedding day, she mysteriously grows to 49-feet-11-inches. The military jumps into action and captures Susan, secreting her away to a covert government compound. She is renamed Ginormica and placed in confinement with a ragtag group of Monsters...\n",
      "\n"
     ]
    }
   ],
   "source": [
    "search(\"I like action movies set in space\")"
   ]
  },
  {
   "cell_type": "code",
   "execution_count": 17,
   "id": "709a8eaa-3349-4513-99ee-f1f872660854",
   "metadata": {},
   "outputs": [
    {
     "name": "stdout",
     "output_type": "stream",
     "text": [
      "Results the following query: I like movies that are informative and teach me something\n",
      "Title: Black Mass (877)\n",
      "Cosine Similarity 0.131107487118041\n",
      "Keywords & Genres: boston based on true story organized crime, Crime Drama\n",
      "Overview: The true story of Whitey Bulger, the brother of a state senator and the most infamous violent criminal in the history of South Boston, who became an FBI informant to take down a Mafia family invading his turf.\n",
      "\n",
      "Title: Crazy, Stupid, Love. (925)\n",
      "Cosine Similarity 0.10819608049792716\n",
      "Keywords & Genres: soulmates midlife crisis marriage crisis womanizer law school, Comedy Drama Romance\n",
      "Overview: Cal Weaver is living the American dream. He has a good job, a beautiful house, great children and a beautiful wife, named Emily. Cal's seemingly perfect life unravels, however, when he learns that Emily has been unfaithful and wants a divorce. Over 40 and suddenly single, Cal is adrift in the fickle world of dating. Enter, Jacob Palmer, a self-styled player who takes Cal under his wing and teaches him how to be a hit with the ladies.\n",
      "\n",
      "Title: Honey (2337)\n",
      "Cosine Similarity 0.09731245536804409\n",
      "Keywords & Genres: new york dancing hip-hop dream dance, Romance Music Family\n",
      "Overview: Honey Daniels (Jessica Alba) dreams of making a name for herself as a hip-hop choreographer. When she's not busy hitting downtown clubs with her friends, she teaches dance classes at a nearby community center in Harlem, N.Y., as a way to keep kids off the streets. Honey thinks she's hit the jackpot when she meets a hotshot director (David Moscow) who casts her in one of his music videos. But, when he starts demanding sexual favors from her, Honey makes a decision that will change her life.\n",
      "\n",
      "Title: The Firm (1116)\n",
      "Cosine Similarity 0.08316471519063105\n",
      "Keywords & Genres: fbi law tennessee lawyer law firm, Drama Mystery Thriller\n",
      "Overview: Mitch McDeere is a young man with a promising future in Law. About to sit his Bar exam, he is approached by 'The Firm' and made an offer he doesn't refuse. Seduced by the money and gifts showered on him, he is totally oblivious to the more sinister side of his company. Then, two Associates are murdered. The FBI contact him, asking him for information and suddenly his life is ruined. He has a choice - work with the FBI, or stay with the Firm. Either way he will lose his life as he knows it. Mitch figures the only way out is to follow his own plan...\n",
      "\n",
      "Title: On the Waterfront (4432)\n",
      "Cosine Similarity 0.08191917021459776\n",
      "Keywords & Genres: murder suspense union dock longshoreman, Crime Drama\n",
      "Overview: Terry Malloy dreams about being a prize fighter, while tending his pigeons and running errands at the docks for Johnny Friendly, the corrupt boss of the dockers union. Terry witnesses a murder by two of Johnny's thugs, and later meets the dead man's sister and feels responsible for his death. She introduces him to Father Barry, who tries to force him to provide information for the courts that will smash the dock racketeers.\n",
      "\n"
     ]
    }
   ],
   "source": [
    "search(\"I like movies that are informative and teach me something\")"
   ]
  },
  {
   "cell_type": "code",
   "execution_count": 18,
   "id": "cb226a3e-9dbb-446e-b08d-2e55d2c617a1",
   "metadata": {},
   "outputs": [
    {
     "name": "stdout",
     "output_type": "stream",
     "text": [
      "Results the following query: I like calm documentaries about nature.\n",
      "Title: Give Me Shelter (4660)\n",
      "Cosine Similarity 0.1681818266225291\n",
      "Keywords & Genres: helping animals, Documentary\n",
      "Overview: Give Me Shelter is a documentary to raise awareness for important animal issues around the world. This film uncovers the most prevalent issues in the animal world through the eyes of individuals dedicating their lives to them daily.\n",
      "\n",
      "Title: The Horse Whisperer (713)\n",
      "Cosine Similarity 0.16392059011182014\n",
      "Keywords & Genres: love triangle new york montana attachment to nature confidence, Drama Romance\n",
      "Overview: Based on the novel by the same name from Nicholas Evans, the talented Robert Redford presents this meditative family drama set in the country side. Redford not only directs but also stars in the roll of a cowboy with a magical talent for healing.\n",
      "\n",
      "Title: Wordplay (4520)\n",
      "Cosine Similarity 0.15831009727168782\n",
      "Keywords & Genres: competition documentary contest crossword puzzle, Documentary\n",
      "Overview: From the masters who create the mind-bending diversions to the tense competition at the American Crossword Puzzle Tournament, Patrick Creadon's documentary reveals a fascinating look at a decidedly addictive pastime. Creadon captures New York Times editor Will Shortz at work, talks to celebrity solvers -- including Bill Clinton and Ken Burns -- and presents an intimate look at the national tournament and its competitors.\n",
      "\n",
      "Title: Roger & Me (4713)\n",
      "Cosine Similarity 0.1469336147466958\n",
      "Keywords & Genres: capitalism economics unemployment corporate greed, Documentary History\n",
      "Overview: A documentary about the closure of General Motors' plant at Flint, Michigan, which resulted in the loss of 30,000 jobs. Details the attempts of filmmaker Michael Moore to get an interview with GM CEO Roger Smith.\n",
      "\n",
      "Title: The Relic (759)\n",
      "Cosine Similarity 0.12402640549203663\n",
      "Keywords & Genres: chicago based on novel monster museum pile of dead bodies, Horror Mystery Thriller\n",
      "Overview: A researcher at Chicago's Natural History Museum returns from South America with some crates containing his findings. When the crates arrive at the museum without the owner there appears to be very little inside. However, police discover gruesome murders on the cargo ship that brought the crates to the US and then another murder in the museum itself.\n",
      "\n"
     ]
    }
   ],
   "source": [
    "search(\"I like calm documentaries about nature.\")"
   ]
  },
  {
   "cell_type": "code",
   "execution_count": 19,
   "id": "036bc79f-551a-4de4-9290-328bd1de10aa",
   "metadata": {},
   "outputs": [
    {
     "name": "stdout",
     "output_type": "stream",
     "text": [
      "Results the following query: I like calm documentaries about war.\n",
      "Title: Give Me Shelter (4660)\n",
      "Cosine Similarity 0.24095242118775184\n",
      "Keywords & Genres: helping animals, Documentary\n",
      "Overview: Give Me Shelter is a documentary to raise awareness for important animal issues around the world. This film uncovers the most prevalent issues in the animal world through the eyes of individuals dedicating their lives to them daily.\n",
      "\n",
      "Title: Wordplay (4520)\n",
      "Cosine Similarity 0.22680929326386495\n",
      "Keywords & Genres: competition documentary contest crossword puzzle, Documentary\n",
      "Overview: From the masters who create the mind-bending diversions to the tense competition at the American Crossword Puzzle Tournament, Patrick Creadon's documentary reveals a fascinating look at a decidedly addictive pastime. Creadon captures New York Times editor Will Shortz at work, talks to celebrity solvers -- including Bill Clinton and Ken Burns -- and presents an intimate look at the national tournament and its competitors.\n",
      "\n",
      "Title: Roger & Me (4713)\n",
      "Cosine Similarity 0.21051032051486893\n",
      "Keywords & Genres: capitalism economics unemployment corporate greed, Documentary History\n",
      "Overview: A documentary about the closure of General Motors' plant at Flint, Michigan, which resulted in the loss of 30,000 jobs. Details the attempts of filmmaker Michael Moore to get an interview with GM CEO Roger Smith.\n",
      "\n",
      "Title: We Were Soldiers (579)\n",
      "Cosine Similarity 0.1861381455027855\n",
      "Keywords & Genres: vietnam veteran missile vietnam war army major, Action History War\n",
      "Overview: The story of the first major battle of the American phase of the Vietnam War and the soldiers on both sides that fought it.\n",
      "\n",
      "Title: Censored Voices (4597)\n",
      "Cosine Similarity 0.16626624324089007\n",
      "Keywords & Genres: woman director, History Documentary\n",
      "Overview: The 1967 'Six-Day' war ended with Israel's decisive victory; conquering Jerusalem, Gaza, Sinai and the West Bank. It is a war portrayed, to this day, as a righteous undertaking - a radiant emblem of Jewish pride. One week after the war, a group of young kibbutzniks, led by renowned author Amos Oz, recorded intimate conversations with soldiers returning from the battlefield. The recording revealed an honest look at the moment Israel turned from David to Goliath. The Israeli army censored the recordings, allowing the kibbutzniks to publish only a fragment of the conversations. 'Censored Voices' reveals the original recordings for the first time.\n",
      "\n"
     ]
    }
   ],
   "source": [
    "search(\"I like calm documentaries about war.\")"
   ]
  },
  {
   "cell_type": "code",
   "execution_count": 20,
   "id": "4a2620ce-7a14-4cc1-a172-06ba25121209",
   "metadata": {},
   "outputs": [
    {
     "name": "stdout",
     "output_type": "stream",
     "text": [
      "Results the following query: I love comedies for the family\n",
      "Title: August: Osage County (1885)\n",
      "Cosine Similarity 0.184359662874574\n",
      "Keywords & Genres: suicide drug addiction funeral dysfunctional family based on play, Comedy Drama\n",
      "Overview: A look at the lives of the strong-willed women of the Weston family, whose paths have diverged until a family crisis brings them back to the Midwest house they grew up in, and to the dysfunctional woman who raised them.\n",
      "\n",
      "Title: Post Grad (2619)\n",
      "Cosine Similarity 0.13244780221747893\n",
      "Keywords & Genres: career family unemployment woman director graduation speech, Comedy\n",
      "Overview: Ryden Malby has a master plan. Graduate college, get a great job, hang out with her best friend and find the perfect guy. But her plan spins hilariously out of control when she’s forced to move back home with her eccentric family.\n",
      "\n",
      "Title: The Royal Tenenbaums (1710)\n",
      "Cosine Similarity 0.1313249277804484\n",
      "Keywords & Genres: forgiveness child prodigy terminal illness dysfunctional family cigarette smoking, Comedy Drama\n",
      "Overview: An estranged family of former child prodigies reunites when their father announces he has a terminal illness.\n",
      "\n",
      "Title: Neighbors (2312)\n",
      "Cosine Similarity 0.09990164592593007\n",
      "Keywords & Genres: alcohol baby party family fraternity, Comedy\n",
      "Overview: A couple with a newborn baby face unexpected difficulties after they are forced to live next to a fraternity house.\n",
      "\n",
      "Title: Meet Dave (778)\n",
      "Cosine Similarity 0.08668132818749304\n",
      "Keywords & Genres: new york captain starships new love earth, Comedy Science Fiction Adventure Family\n",
      "Overview: A crew of miniature aliens operate a spaceship that has a human form. While trying to save their planet, the aliens encounter a new problem, as their ship becomes smitten with an Earth woman.\n",
      "\n"
     ]
    }
   ],
   "source": [
    "search(\"I love comedies for the family\")"
   ]
  },
  {
   "cell_type": "code",
   "execution_count": 21,
   "id": "81732bf9-b170-4957-a97c-852b105092e1",
   "metadata": {},
   "outputs": [
    {
     "name": "stdout",
     "output_type": "stream",
     "text": [
      "Results the following query: I love comedies\n",
      "Title: Dry Spell (4781)\n",
      "Cosine Similarity 0.13474827472071382\n",
      "Keywords & Genres: dating divorce sex scene sex comedy anti romantic comedy, Comedy Romance\n",
      "Overview: Sasha tries to get her soon-to-be ex husband Kyle laid so she can move on with her sex life guilt-free.\n",
      "\n",
      "Title: Dumb and Dumber To (1171)\n",
      "Cosine Similarity 0.10993042811701818\n",
      "Keywords & Genres: friendship sequel road movie buddy comedy, Comedy\n",
      "Overview: 20 years after the dimwits set out on their first adventure, they head out in search of one of their long lost children in the hope of gaining a new kidney.\n",
      "\n",
      "Title: The Salon (4241)\n",
      "Cosine Similarity 0.09109911344825801\n",
      "Keywords & Genres: independent film, Comedy\n",
      "Overview: A Beauty shop owner finds romance as she struggles to save her business.\n",
      "\n",
      "Title: Bandits (534)\n",
      "Cosine Similarity 0.08048798673807012\n",
      "Keywords & Genres: prison, Action Comedy Crime Romance\n",
      "Overview: Two bank robbers fall in love with the girl they've kidnapped.\n",
      "\n",
      "Title: Money Talks (1854)\n",
      "Cosine Similarity 0.0784026982777355\n",
      "Keywords & Genres: prison diamant liberation of prisoners transport of prisoners interview, Action Adventure Comedy\n",
      "Overview: Money Talks is a 1997 American comedy film directed by Brett Ratner. Sought by police and criminals, a small-time huckster makes a deal with a TV newsman for protection.\n",
      "\n"
     ]
    }
   ],
   "source": [
    "search(\"I love comedies\")"
   ]
  },
  {
   "cell_type": "code",
   "execution_count": 22,
   "id": "5412b873-9564-41a9-9dea-f8cdb3dd2892",
   "metadata": {},
   "outputs": [
    {
     "name": "stdout",
     "output_type": "stream",
     "text": [
      "Results the following query: I like horror films that take place in the wild\n",
      "Title: Black Snake Moan (2608)\n",
      "Cosine Similarity 0.2214723689312577\n",
      "Keywords & Genres: southern usa blues military service independent film, Drama\n",
      "Overview: A God-fearing bluesman takes to a wild young woman who, as a victim of childhood sexual abuse, is looking everywhere for love, but never quite finding it.\n",
      "\n",
      "Title: The Theory of Everything (2547)\n",
      "Cosine Similarity 0.12317056138960344\n",
      "Keywords & Genres: wife husband relationship biography physicist based on memoir stephen hawking, Drama Romance\n",
      "Overview: The Theory of Everything is the extraordinary story of one of the world’s greatest living minds, the renowned astrophysicist Stephen Hawking, who falls deeply in love with fellow Cambridge student Jane Wilde.\n",
      "\n",
      "Title: Where the Wild Things Are (293)\n",
      "Cosine Similarity 0.11762624358179284\n",
      "Keywords & Genres: children's book igloo wolf costume swallowed whole hit with a rock, Family Fantasy\n",
      "Overview: Max imagines running away from his mom and sailing to a far-off land where large talking beasts -- Ira, Carol, Douglas, the Bull, Judith and Alexander -- crown him as their king, play rumpus, build forts and discover secret hideaways.\n",
      "\n",
      "Title: Urban Legends: Final Cut (2576)\n",
      "Cosine Similarity 0.11512644818373664\n",
      "Keywords & Genres: film making high school sequel serial killer slasher, Horror\n",
      "Overview: The making of a horror movie takes on a terrifying reality for students at the most prestigious film school in the country in 'Urban Legends: Final Cut', the suspenseful follow up to the smash hit 'Urban Legend'. At Alpine University, someone is determined to win the best film award at any cost - even if it means eliminating the competition. No one is safe and everyone is a suspect. 'Urban Legends: Final Cut' is an edge-of-your-seat thriller that will keep you guessing until the shocking climax.\n",
      "\n",
      "Title: A Guy Thing (2189)\n",
      "Cosine Similarity 0.1074538473861435\n",
      "Keywords & Genres: infidelity bachelor blackmail fantasy truth, Comedy Romance\n",
      "Overview: Paul Morse is a good guy. When his friends throw him a wild bachelor party, he just wants to keep his conscience clean -- which is why he's shocked when he wakes up in bed with a beautiful girl named Becky and can't remember the night before. Desperate to keep his fiancée, Karen, from finding out what may or may not be the truth, he tells her a teensy lie. Soon his lies are spiraling out of control and his life is a series of comical misunderstandings.\n",
      "\n"
     ]
    }
   ],
   "source": [
    "search(\"I like horror films that take place in the wild\")"
   ]
  }
 ],
 "metadata": {
  "kernelspec": {
   "display_name": "Python 3 (ipykernel)",
   "language": "python",
   "name": "python3"
  },
  "language_info": {
   "codemirror_mode": {
    "name": "ipython",
    "version": 3
   },
   "file_extension": ".py",
   "mimetype": "text/x-python",
   "name": "python",
   "nbconvert_exporter": "python",
   "pygments_lexer": "ipython3",
   "version": "3.9.6"
  }
 },
 "nbformat": 4,
 "nbformat_minor": 5
}
